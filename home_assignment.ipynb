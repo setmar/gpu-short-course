{
 "cells": [
  {
   "cell_type": "markdown",
   "id": "df29e9d9-6e4b-492f-94ca-6c73a46b7371",
   "metadata": {},
   "source": [
    "# Home assignment"
   ]
  },
  {
   "cell_type": "markdown",
   "id": "7da3f207-1621-4b6a-88e7-a78ee787a014",
   "metadata": {},
   "source": [
    "**Implement a simulation of the 2D heat equation with fixed boundaries (using a constant value) in Python and CUDA C/C++ (for the GPU kernel), and visualize the results using matplotlib.pyplot**\n",
    "\n",
    "Use the 1D implementation found in heat_eq_1d_solution.ipynb as a starting point.\n",
    "\n",
    "The Julia implementation of the 2D heat equation found in Webinar_Julia.ipynb might also be useful. (NOTE: The visualization in Webinar_Julia.ipynb is unfortunately broken at the moment.)"
   ]
  },
  {
   "cell_type": "code",
   "execution_count": null,
   "id": "4a554f7c-d27b-4d14-9237-c025c060e2f0",
   "metadata": {},
   "outputs": [],
   "source": []
  }
 ],
 "metadata": {
  "kernelspec": {
   "display_name": "Python 3 (ipykernel)",
   "language": "python",
   "name": "python3"
  },
  "language_info": {
   "codemirror_mode": {
    "name": "ipython",
    "version": 3
   },
   "file_extension": ".py",
   "mimetype": "text/x-python",
   "name": "python",
   "nbconvert_exporter": "python",
   "pygments_lexer": "ipython3",
   "version": "3.12.4"
  }
 },
 "nbformat": 4,
 "nbformat_minor": 5
}
